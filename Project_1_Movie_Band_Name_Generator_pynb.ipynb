{
  "nbformat": 4,
  "nbformat_minor": 0,
  "metadata": {
    "colab": {
      "provenance": [],
      "authorship_tag": "ABX9TyN1aqDIfuu1Ay15D5E3Rtc2",
      "include_colab_link": true
    },
    "kernelspec": {
      "name": "python3",
      "display_name": "Python 3"
    },
    "language_info": {
      "name": "python"
    }
  },
  "cells": [
    {
      "cell_type": "markdown",
      "metadata": {
        "id": "view-in-github",
        "colab_type": "text"
      },
      "source": [
        "<a href=\"https://colab.research.google.com/github/Legendkiller9855/Projects_Python/blob/beginner-level-projects/Project_1_Movie_Band_Name_Generator_pynb.ipynb\" target=\"_parent\"><img src=\"https://colab.research.google.com/assets/colab-badge.svg\" alt=\"Open In Colab\"/></a>"
      ]
    },
    {
      "cell_type": "code",
      "execution_count": 1,
      "metadata": {
        "colab": {
          "base_uri": "https://localhost:8080/"
        },
        "id": "tPF8W4sEhfhZ",
        "outputId": "3b8bfdca-4afd-45ee-c990-57fc87f931af"
      },
      "outputs": [
        {
          "output_type": "stream",
          "name": "stdout",
          "text": [
            "Welcome to the Band Name Generator.\n",
            "What's the name of the city you grew up in?delhi\n",
            "What's your pet's name?\n",
            "rocky\n",
            "Your band name could be delhi rocky!\n"
          ]
        }
      ],
      "source": [
        "print(\"Welcome to the Band Name Generator.\")\n",
        "street = input(\"What's the name of the city you grew up in?\")\n",
        "pet = input(\"What's your pet's name?\\n\")\n",
        "print(\"Your band name could be \" + street + \" \" + pet + \"!\")"
      ]
    }
  ]
}