{
  "nbformat": 4,
  "nbformat_minor": 0,
  "metadata": {
    "colab": {
      "provenance": [],
      "authorship_tag": "ABX9TyMG9wP23DESQMhVvqy35tQL",
      "include_colab_link": true
    },
    "kernelspec": {
      "name": "python3",
      "display_name": "Python 3"
    },
    "language_info": {
      "name": "python"
    }
  },
  "cells": [
    {
      "cell_type": "markdown",
      "metadata": {
        "id": "view-in-github",
        "colab_type": "text"
      },
      "source": [
        "<a href=\"https://colab.research.google.com/github/Legendkiller9855/Projects_Python/blob/intermediate-level-projects/Project_11_Blackjack_game.ipynb\" target=\"_parent\"><img src=\"https://colab.research.google.com/assets/colab-badge.svg\" alt=\"Open In Colab\"/></a>"
      ]
    },
    {
      "cell_type": "code",
      "execution_count": 22,
      "metadata": {
        "colab": {
          "base_uri": "https://localhost:8080/"
        },
        "id": "ewwTRBkmXqG0",
        "outputId": "7d0e64eb-f123-4949-d69a-36894174e457"
      },
      "outputs": [
        {
          "output_type": "stream",
          "name": "stdout",
          "text": [
            "whether you wanna play a game of blackjack or not? : yes or no ? yes\n",
            "Let's play a game of blackjack\n",
            "    Your cards: [6, 2], current score: 8\n",
            "    Computer's first card: 2\n",
            "Type 'y' to get another card, type 'n' to pass: y\n",
            "    Your cards: [6, 2, 10], current score: 18\n",
            "    Computer's first card: 2\n",
            "Type 'y' to get another card, type 'n' to pass: n\n",
            "    Your final hand: [6, 2, 10], final score: 18\n",
            "    Computer's final hand: [2, 10, 10], final score: 22\n",
            "Opponent went over. You win.\n"
          ]
        }
      ],
      "source": [
        "import random\n",
        "\n",
        "cards = [1, 2, 3, 4, 5, 6, 7, 8, 9, 10, 10, 10, 10]\n",
        "game_played = input(\"whether you wanna play a game of blackjack or not? : yes or no ? \")\n",
        "\n",
        "def deal_card():\n",
        "    \"\"\"Returns a random card from the deck.\"\"\"\n",
        "    return random.choice(cards)\n",
        "\n",
        "def calculate_score(cards):\n",
        "    \"\"\"Takes a list of cards and returns the score calculated from the cards.\"\"\"\n",
        "    if sum(cards) == 21 and len(cards) == 2:\n",
        "        return 0  # Blackjack\n",
        "    if 11 in cards and sum(cards) > 21:\n",
        "        cards.remove(11)\n",
        "        cards.append(1)\n",
        "    return sum(cards)\n",
        "\n",
        "def compare(user_score, computer_score):\n",
        "    if user_score == computer_score:\n",
        "        return \"It's a draw.\"\n",
        "    elif computer_score == 0:\n",
        "        return \"You lose, opponent has Blackjack.\"\n",
        "    elif user_score == 0:\n",
        "        return \"You win with a Blackjack.\"\n",
        "    elif user_score > 21:\n",
        "        return \"You went over. You lose.\"\n",
        "    elif computer_score > 21:\n",
        "        return \"Opponent went over. You win.\"\n",
        "    elif user_score > computer_score:\n",
        "        return \"You win.\"\n",
        "    else:\n",
        "        return \"You lose.\"\n",
        "\n",
        "if game_played == \"yes\":\n",
        "    print(\"Let's play a game of blackjack\")\n",
        "    user_cards = []\n",
        "    computer_cards = []\n",
        "    is_game_over = False\n",
        "\n",
        "    for _ in range(2):\n",
        "        user_cards.append(deal_card())\n",
        "        computer_cards.append(deal_card())\n",
        "\n",
        "    while not is_game_over:\n",
        "        user_score = calculate_score(user_cards)\n",
        "        computer_score = calculate_score(computer_cards)\n",
        "        print(f\"    Your cards: {user_cards}, current score: {user_score}\")\n",
        "        print(f\"    Computer's first card: {computer_cards[0]}\")\n",
        "\n",
        "        if user_score == 0 or computer_score == 0 or user_score > 21:\n",
        "            is_game_over = True\n",
        "        else:\n",
        "            user_should_deal = input(\"Type 'y' to get another card, type 'n' to pass: \")\n",
        "            if user_should_deal == \"y\":\n",
        "                user_cards.append(deal_card())\n",
        "            else:\n",
        "                is_game_over = True\n",
        "\n",
        "    while computer_score != 0 and computer_score < 17:\n",
        "        computer_cards.append(deal_card())\n",
        "        computer_score = calculate_score(computer_cards)\n",
        "\n",
        "    print(f\"    Your final hand: {user_cards}, final score: {user_score}\")\n",
        "    print(f\"    Computer's final hand: {computer_cards}, final score: {computer_score}\")\n",
        "    print(compare(user_score, computer_score))\n",
        "\n",
        "else:\n",
        "    print(\"Blackjack is a popular card game where the goal is to reach as close as to 21. \\nPlease , Try Next Time!\")"
      ]
    }
  ]
}