{
  "nbformat": 4,
  "nbformat_minor": 0,
  "metadata": {
    "colab": {
      "provenance": [],
      "authorship_tag": "ABX9TyMn9cE5LF6Qi4M//h2KVgVs",
      "include_colab_link": true
    },
    "kernelspec": {
      "name": "python3",
      "display_name": "Python 3"
    },
    "language_info": {
      "name": "python"
    }
  },
  "cells": [
    {
      "cell_type": "markdown",
      "metadata": {
        "id": "view-in-github",
        "colab_type": "text"
      },
      "source": [
        "<a href=\"https://colab.research.google.com/github/Legendkiller9855/Projects_Python/blob/beginner-level-projects/Project_5_Escaping_the_Maze.ipynb\" target=\"_parent\"><img src=\"https://colab.research.google.com/assets/colab-badge.svg\" alt=\"Open In Colab\"/></a>"
      ]
    },
    {
      "cell_type": "code",
      "execution_count": 7,
      "metadata": {
        "colab": {
          "base_uri": "https://localhost:8080/"
        },
        "id": "wPsXs0Ah3s1D",
        "outputId": "2d5925fb-9d12-4c18-f06a-054fde48e90b"
      },
      "outputs": [
        {
          "output_type": "stream",
          "name": "stdout",
          "text": [
            "MAZE SOLVED\n"
          ]
        }
      ],
      "source": [
        "\"\"\"def turn_right():\n",
        "  turn_left()\n",
        "  turn_left()\n",
        "  turn_left()\n",
        "\n",
        "while not at_goal():\n",
        "  if right_is_clear():\n",
        "    turn_right()\n",
        "    move()\n",
        "  elif front_is_clear():\n",
        "    move()\n",
        "  else:\n",
        "    turn_left()\"\"\"\n",
        "print(\"MAZE SOLVED\")"
      ]
    }
  ]
}