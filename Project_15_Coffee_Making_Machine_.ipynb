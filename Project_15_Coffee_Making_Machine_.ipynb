{
  "nbformat": 4,
  "nbformat_minor": 0,
  "metadata": {
    "colab": {
      "provenance": [],
      "authorship_tag": "ABX9TyP2ZKyRNTsXwvxSYsJOpwv6",
      "include_colab_link": true
    },
    "kernelspec": {
      "name": "python3",
      "display_name": "Python 3"
    },
    "language_info": {
      "name": "python"
    }
  },
  "cells": [
    {
      "cell_type": "markdown",
      "metadata": {
        "id": "view-in-github",
        "colab_type": "text"
      },
      "source": [
        "<a href=\"https://colab.research.google.com/github/Legendkiller9855/Projects_Python/blob/intermediate-level-projects/Project_15_Coffee_Making_Machine_.ipynb\" target=\"_parent\"><img src=\"https://colab.research.google.com/assets/colab-badge.svg\" alt=\"Open In Colab\"/></a>"
      ]
    },
    {
      "cell_type": "code",
      "execution_count": null,
      "metadata": {
        "colab": {
          "base_uri": "https://localhost:8080/"
        },
        "id": "c3qJtTyqq7RT",
        "outputId": "41db13aa-c3ef-4ce2-c8f0-f0d3688fa1fb"
      },
      "outputs": [
        {
          "output_type": "stream",
          "name": "stdout",
          "text": [
            "Coffe Making Machine\n",
            "Price of Coffee: \n",
            " *Espresso = $1.5 \n",
            " *Latte = $2.50 \n",
            " *Cappuccino : $3.00\n"
          ]
        }
      ],
      "source": [
        "print(\"Coffe Making Machine\")\n",
        "print(\"Price of Coffee: \\n *Espresso = $1.5 \\n *Latte = $2.50 \\n *Cappuccino : $3.00\")\n",
        "coffee_required = input(\"What would you like? (espresso / latte / cappuccino) : \").lower()\n",
        "def price_menu(coffee):\n",
        "  if coffee == \"espresso\":\n",
        "    return 1.50\n",
        "  elif coffee == \"latte\":\n",
        "    return 2.50\n",
        "  elif coffee == \"cappuccino\":\n",
        "    return 3.00\n",
        "  else:\n",
        "    return None\n",
        "\n",
        "price = price_menu(coffee_required)\n",
        "print(f\"The price of your {coffee_required} is ${price}\")\n",
        "\n",
        "def money():\n",
        "  global price\n",
        "  if price is None:\n",
        "    print(f\"Invalid coffee type: {coffee_required}. Please choose from the menu.\")\n",
        "    return\n",
        "\n",
        "  try:\n",
        "    quarters=int(input(\"How many quarters? \"))\n",
        "    dimes=int(input(\"How many dimes? \"))\n",
        "    nickles=int(input(\"How many nickles? \"))\n",
        "    pennies=int(input(\"How many pennies? \"))\n",
        "    total_money = float(0.25*quarters + 0.10*dimes + 0.05*nickles + 0.01*pennies)\n",
        "    print(f\"You gave {total_money}$\")\n",
        "    if price > total_money:\n",
        "      print(\"The amount of money is less than the price of coffee.\\nWe can't process the order.\\nMoney is refunded\")\n",
        "    else:\n",
        "      change = total_money - price\n",
        "      print(f\"Here is your ${change} in change.\")\n",
        "      return total_money\n",
        "  except ValueError:\n",
        "    print(\"Please enter a numerical value.\")\n",
        "    money()\n",
        "\n",
        "\n",
        "\n",
        "def coffee(coffee_type, money_paid):\n",
        "  MENU = {\n",
        "    \"espresso\": {\n",
        "        \"ingredients\": {\n",
        "            \"water\": 50,\n",
        "            \"coffee\": 18,\n",
        "        },\n",
        "        \"cost\": 1.5,\n",
        "    },\n",
        "    \"latte\": {\n",
        "        \"ingredients\": {\n",
        "            \"water\": 200,\n",
        "            \"milk\": 150,\n",
        "            \"coffee\": 24,\n",
        "        },\n",
        "        \"cost\": 2.5,\n",
        "    },\n",
        "    \"cappuccino\": {\n",
        "        \"ingredients\": {\n",
        "            \"water\": 250,\n",
        "            \"milk\": 100,\n",
        "            \"coffee\": 24,\n",
        "        },\n",
        "        \"cost\": 3.0,\n",
        "    }\n",
        "}\n",
        "  resources = {\n",
        "      \"water\": 300,\n",
        "      \"milk\": 200,\n",
        "      \"coffee\": 100,\n",
        "  }\n",
        "\n",
        "  drink = MENU[coffee_type]\n",
        "\n",
        "  for item in drink['ingredients']:\n",
        "    if resources[item] < drink['ingredients'][item]:\n",
        "      print(f\"Sorry, not enough {item}\")\n",
        "      return\n",
        "\n",
        "  if money_paid >= drink['cost']:\n",
        "    for item in drink['ingredients']:\n",
        "      resources[item] -= drink['ingredients'][item]\n",
        "    print(f\"Here is your {coffee_type} ☕️. Enjoy!\")\n",
        "    print(\"Remaining resources: \", resources)\n",
        "  else:\n",
        "    print(\"Sorry that's not enough money. Money refunded.\")\n",
        "\n",
        "payment = money()\n",
        "if payment:\n",
        "  coffee(coffee_required, payment)"
      ]
    }
  ]
}