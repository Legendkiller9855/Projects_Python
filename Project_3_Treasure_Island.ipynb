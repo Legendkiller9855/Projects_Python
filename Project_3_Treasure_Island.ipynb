{
  "nbformat": 4,
  "nbformat_minor": 0,
  "metadata": {
    "colab": {
      "provenance": [],
      "authorship_tag": "ABX9TyOPbSZKntZF08mPZwC9ZuAd",
      "include_colab_link": true
    },
    "kernelspec": {
      "name": "python3",
      "display_name": "Python 3"
    },
    "language_info": {
      "name": "python"
    }
  },
  "cells": [
    {
      "cell_type": "markdown",
      "metadata": {
        "id": "view-in-github",
        "colab_type": "text"
      },
      "source": [
        "<a href=\"https://colab.research.google.com/github/Legendkiller9855/Projects_Python/blob/beginner-level-projects/Project_3_Treasure_Island.ipynb\" target=\"_parent\"><img src=\"https://colab.research.google.com/assets/colab-badge.svg\" alt=\"Open In Colab\"/></a>"
      ]
    },
    {
      "cell_type": "code",
      "execution_count": null,
      "metadata": {
        "id": "EzsgDQCJiYa_"
      },
      "outputs": [],
      "source": [
        "print(\"Welcome to the Treasure Island!Your mission is to find the Treasure.\")\n",
        "path_selected = input(\"Which path do you want to select left or right?\").lower()\n",
        "if path_selected == \"left\":\n",
        "  step_took = input(\"You have to swim or wait.\").lower()\n",
        "  if step_took == \"swim\":\n",
        "    print(\"GAME OVER\")\n",
        "  else:\n",
        "    print(\"Wait for 3 minutes for the boat\")\n",
        "    door_selected = input(\"red , blue , yellow\").lower()\n",
        "    if door_selected == \"red\" or door_selected == \"yellow\":\n",
        "      print(\"GAME OVER\")\n",
        "    else:\n",
        "      print(\"YOU WON TREASURE\")\n",
        "else:\n",
        "  print(\"GAME OVER\")"
      ]
    }
  ]
}