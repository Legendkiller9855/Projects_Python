{
  "nbformat": 4,
  "nbformat_minor": 0,
  "metadata": {
    "colab": {
      "provenance": [],
      "authorship_tag": "ABX9TyOYAkx2YNXAwXlS6L7w7V0e",
      "include_colab_link": true
    },
    "kernelspec": {
      "name": "python3",
      "display_name": "Python 3"
    },
    "language_info": {
      "name": "python"
    }
  },
  "cells": [
    {
      "cell_type": "markdown",
      "metadata": {
        "id": "view-in-github",
        "colab_type": "text"
      },
      "source": [
        "<a href=\"https://colab.research.google.com/github/Legendkiller9855/Projects_Python/blob/intermediate-level-projects/Project_10_Calculator.ipynb\" target=\"_parent\"><img src=\"https://colab.research.google.com/assets/colab-badge.svg\" alt=\"Open In Colab\"/></a>"
      ]
    },
    {
      "cell_type": "code",
      "execution_count": null,
      "metadata": {
        "colab": {
          "base_uri": "https://localhost:8080/",
          "height": 106
        },
        "collapsed": true,
        "id": "9T4rOt3QFS4V",
        "outputId": "4835efe5-d1bf-4491-c6b8-7cd73eca6843"
      },
      "outputs": [
        {
          "output_type": "error",
          "ename": "SyntaxError",
          "evalue": "invalid syntax (ipython-input-6-1298146097.py, line 2)",
          "traceback": [
            "\u001b[0;36m  File \u001b[0;32m\"/tmp/ipython-input-6-1298146097.py\"\u001b[0;36m, line \u001b[0;32m2\u001b[0m\n\u001b[0;31m    for calculator:\u001b[0m\n\u001b[0m                  ^\u001b[0m\n\u001b[0;31mSyntaxError\u001b[0m\u001b[0;31m:\u001b[0m invalid syntax\n"
          ]
        }
      ],
      "source": [
        "def subtract(n1,n2):\n",
        "  return n1-n2\n",
        "\n",
        "def add(n1,n2):\n",
        "  return n1+n2\n",
        "\n",
        "def multiply(n1,n2):\n",
        "  return n1*n2\n",
        "\n",
        "def divide(n1,n2):\n",
        "  return n1/n2\n",
        "\n",
        "operations = {\n",
        "    \"-\":subtract,\n",
        "    \"+\":add,\n",
        "    \"*\":multiply,\n",
        "    \"/\":divide,\n",
        "}\n",
        "\n",
        "def calculator():\n",
        "  should_continue = True\n",
        "  first_number =float(input(\"What's your first number?\"))\n",
        "  answer = 0\n",
        "\n",
        "  while should_continue:\n",
        "    operations_available = \"*\\n-\\n+\\n/\"\n",
        "    print(operations_available)\n",
        "    operand_selected = input(\"What's the operator selected?\")\n",
        "    second_number=float(input(\"What's your next number?\"))\n",
        "    answer = operations[operand_selected](n1=first_number,n2=second_number)\n",
        "    print(answer)\n",
        "    print(\"If you want to continue the calculation type y , if you want to reset the calculator type n\")\n",
        "    wanna_continue =input(\"Want to continue the operations from the result or from the beginning?\")\n",
        "    if wanna_continue == \"y\":\n",
        "      first_number = answer\n",
        "\n",
        "    else:\n",
        "      should_continue = False\n",
        "  print(f\"Your final solution is {answer}\")\n",
        "\n",
        "calculator()"
      ]
    }
  ]
}