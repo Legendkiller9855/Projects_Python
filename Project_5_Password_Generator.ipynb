{
  "nbformat": 4,
  "nbformat_minor": 0,
  "metadata": {
    "colab": {
      "provenance": [],
      "authorship_tag": "ABX9TyPJFnU3K2TxRYr7gJnmYXY2",
      "include_colab_link": true
    },
    "kernelspec": {
      "name": "python3",
      "display_name": "Python 3"
    },
    "language_info": {
      "name": "python"
    }
  },
  "cells": [
    {
      "cell_type": "markdown",
      "metadata": {
        "id": "view-in-github",
        "colab_type": "text"
      },
      "source": [
        "<a href=\"https://colab.research.google.com/github/Legendkiller9855/Projects_Python/blob/beginner-level-projects/Project_5_Password_Generator.ipynb\" target=\"_parent\"><img src=\"https://colab.research.google.com/assets/colab-badge.svg\" alt=\"Open In Colab\"/></a>"
      ]
    },
    {
      "cell_type": "markdown",
      "source": [
        "**Basic password generator**"
      ],
      "metadata": {
        "id": "wqVVwRsSbkZu"
      }
    },
    {
      "cell_type": "code",
      "execution_count": 11,
      "metadata": {
        "colab": {
          "base_uri": "https://localhost:8080/"
        },
        "id": "jSTgqcuJZHul",
        "outputId": "265affb6-194e-423b-f2d8-b2811695b36b"
      },
      "outputs": [
        {
          "output_type": "stream",
          "name": "stdout",
          "text": [
            "Password Generator\n",
            "How long do you need your password : 12\n",
            "How many numbers do you want in your password : 5\n",
            "How many alphabets do you want in your password : 6\n",
            "How many symbols do you want in your password : 1\n",
            "35dddddd;\n",
            "Password Generated\n"
          ]
        }
      ],
      "source": [
        "print(\"Password Generator\")\n",
        "numbers = [0, 1, 2, 3, 4, 5, 6, 7, 8, 9]\n",
        "alphabets = ['a', 'b', 'c', 'd', 'e', 'f', 'g', 'h', 'i', 'j', 'k', 'l', 'm', 'n', 'o', 'p', 'q', 'r', 's', 't', 'u', 'v', 'w', 'x', 'y', 'z']\n",
        "symbols = ['!', '\"', '#', '$', '%', '&', \"'\", '(', ')', '*', '+', ',', '-', '.', '/',\n",
        " ':', ';', '<', '=', '>', '?', '@', '[', '\\\\', ']', '^', '_', '`', '{', '|',\n",
        " '}', '~']\n",
        "password_length = int(input(\"How long do you need your password : \"))\n",
        "number_number = int(input(\"How many numbers do you want in your password : \"))\n",
        "number_alphabet = int(input(\"How many alphabets do you want in your password : \"))\n",
        "number_symbols = int(input(\"How many symbols do you want in your password : \"))\n",
        "if password_length == (number_alphabet + number_number + number_symbols):\n",
        "  import random\n",
        "  password = (f\"{random.choice(numbers)*number_number}{random.choice(alphabets)*number_alphabet}{random.choice(symbols)*number_symbols}\")\n",
        "  print(password)\n",
        "  print(\"Password Generated\")\n",
        "else:\n",
        "  print(\"Password length does not matches the sum of the number of alphabets , symbols and number\")\n"
      ]
    },
    {
      "cell_type": "markdown",
      "source": [
        "**Complex password generator**"
      ],
      "metadata": {
        "id": "_jvAA-PDbp2H"
      }
    },
    {
      "cell_type": "code",
      "source": [
        "print(\"Password Generator\")\n",
        "numbers = [0, 1, 2, 3, 4, 5, 6, 7, 8, 9]\n",
        "alphabets = ['a', 'b', 'c', 'd', 'e', 'f', 'g', 'h', 'i', 'j', 'k', 'l', 'm', 'n', 'o', 'p', 'q', 'r', 's', 't', 'u', 'v', 'w', 'x', 'y', 'z']\n",
        "symbols = ['!', '\"', '#', '$', '%', '&', \"'\", '(', ')', '*', '+', ',', '-', '.', '/',\n",
        " ':', ';', '<', '=', '>', '?', '@', '[', '\\\\', ']', '^', '_', '`', '{', '|',\n",
        " '}', '~']\n",
        "password_length = int(input(\"How long do you need your password : \"))\n",
        "number_number = int(input(\"How many numbers do you want in your password : \"))\n",
        "number_alphabet = int(input(\"How many alphabets do you want in your password : \"))\n",
        "number_symbols = int(input(\"How many symbols do you want in your password : \"))\n",
        "import random #for making the password more complex we can add these values in alist and than append the new value and then shuffle it.\n",
        "if password_length == (number_alphabet + number_number + number_symbols):\n",
        "  password_list = [] #to shuffle the password we will be putting the values in an empty list\n",
        "  for char in range(1, number_alphabet + 1):\n",
        "    password_list.append(random.choice(alphabets))\n",
        "  for char in range(1,number_number + 1):\n",
        "    password_list.append(random.choice(numbers))\n",
        "  for char in range(1,number_symbols + 1):\n",
        "    password_list.append(random.choice(symbols))\n",
        "  random.shuffle(password_list)#Used to shuffle the values in a list\n",
        "  password = \"\"#Empty string in which the password from list will be put after converting it into string data type\n",
        "  for char in password_list:\n",
        "    password += str(char)#Converting into string data type\n",
        "  print(password)\n",
        "else:\n",
        "  print(\"Password length does not matches the sum of the number of alphabets , symbols and number\")"
      ],
      "metadata": {
        "colab": {
          "base_uri": "https://localhost:8080/"
        },
        "id": "P7_WRO3sbpkt",
        "outputId": "9a4781ba-ab59-42a0-8da8-130971adad7a"
      },
      "execution_count": 17,
      "outputs": [
        {
          "output_type": "stream",
          "name": "stdout",
          "text": [
            "Password Generator\n",
            "How long do you need your password : 12\n",
            "How many numbers do you want in your password : 3\n",
            "How many alphabets do you want in your password : 4\n",
            "How many symbols do you want in your password : 8\n",
            "Password length does not matches the sum of the number of alphabets , symbols and number\n"
          ]
        }
      ]
    }
  ]
}