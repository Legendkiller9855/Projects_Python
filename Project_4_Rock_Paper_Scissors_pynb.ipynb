{
  "nbformat": 4,
  "nbformat_minor": 0,
  "metadata": {
    "colab": {
      "provenance": [],
      "authorship_tag": "ABX9TyMq0/M01f+SO1ONtGJ6x31k",
      "include_colab_link": true
    },
    "kernelspec": {
      "name": "python3",
      "display_name": "Python 3"
    },
    "language_info": {
      "name": "python"
    }
  },
  "cells": [
    {
      "cell_type": "markdown",
      "metadata": {
        "id": "view-in-github",
        "colab_type": "text"
      },
      "source": [
        "<a href=\"https://colab.research.google.com/github/Legendkiller9855/Projects_Python/blob/beginner-level-projects/Project_4_Rock_Paper_Scissors_pynb.ipynb\" target=\"_parent\"><img src=\"https://colab.research.google.com/assets/colab-badge.svg\" alt=\"Open In Colab\"/></a>"
      ]
    },
    {
      "cell_type": "code",
      "execution_count": 4,
      "metadata": {
        "colab": {
          "base_uri": "https://localhost:8080/"
        },
        "id": "dDtPcCumiX7J",
        "outputId": "0b60d131-a538-481e-9ff9-034d87b4f9fc"
      },
      "outputs": [
        {
          "output_type": "stream",
          "name": "stdout",
          "text": [
            "GAME:ROCK,PAPER,SCISSORS\n",
            "select any one:rock , paper , scissorsrock\n",
            "paper\n",
            "Computer wins\n"
          ]
        }
      ],
      "source": [
        "print(\"GAME:ROCK,PAPER,SCISSORS\")\n",
        "import random\n",
        "choice=[\"rock\",\"paper\",\"scissors\"]\n",
        "user_choice = input(\"select any one:rock , paper , scissors\").lower()\n",
        "computer_choice = random.choice(choice)\n",
        "print(computer_choice)\n",
        "if computer_choice == user_choice:\n",
        "    print(\"TIE\")\n",
        "else:\n",
        "\n",
        "  if computer_choice == \"rock\"and user_choice== \"paper\":\n",
        "    print(\"User Wins\")\n",
        "  elif computer_choice == \"rock\" and user_choice == \"scissor\":\n",
        "    print(\"Computer wins\")\n",
        "  if computer_choice == \"paper\" and user_choice== \"scissor\":\n",
        "    print(\"User Wins\")\n",
        "  elif computer_choice == \"paper\" and user_choice == \"rock\":\n",
        "    print(\"Computer wins\")\n",
        "  if computer_choice == \"scissor\" and user_choice== \"rock\":\n",
        "    print(\"User Wins\")\n",
        "  elif computer_choice == \"scissor\" and user_choice == \"paper\":\n",
        "    print(\"Computer wins\")"
      ]
    }
  ]
}