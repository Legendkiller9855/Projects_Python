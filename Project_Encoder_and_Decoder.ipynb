{
  "nbformat": 4,
  "nbformat_minor": 0,
  "metadata": {
    "colab": {
      "provenance": [],
      "authorship_tag": "ABX9TyOPMZ+CwYdjBNQjNWJGD/J2",
      "include_colab_link": true
    },
    "kernelspec": {
      "name": "python3",
      "display_name": "Python 3"
    },
    "language_info": {
      "name": "python"
    }
  },
  "cells": [
    {
      "cell_type": "markdown",
      "metadata": {
        "id": "view-in-github",
        "colab_type": "text"
      },
      "source": [
        "<a href=\"https://colab.research.google.com/github/Legendkiller9855/Projects_Python/blob/intermediate-level-projects/Project_Encoder_and_Decoder.ipynb\" target=\"_parent\"><img src=\"https://colab.research.google.com/assets/colab-badge.svg\" alt=\"Open In Colab\"/></a>"
      ]
    },
    {
      "cell_type": "code",
      "execution_count": null,
      "metadata": {
        "colab": {
          "base_uri": "https://localhost:8080/"
        },
        "id": "mjvTCDp7RQtS",
        "outputId": "99ce0a92-b751-4ef4-df26-27753d16eac5"
      },
      "outputs": [
        {
          "output_type": "stream",
          "name": "stdout",
          "text": [
            "ENCODER AND DECODER\n",
            "Enter the shift value: 3\n",
            "Enter the text: Hello Krishan\n",
            "The encoded text is: Hhoor Kulvkdq\n",
            "Enter the shift value: 3\n",
            "Enter the encoded text: Hhoor Kulvkdq\n",
            "The decoded text is: Hello Krishan\n"
          ]
        }
      ],
      "source": [
        "print(\"ENCODER\")\n",
        "alphabets = ['a', 'b', 'c', 'd', 'e', 'f', 'g', 'h', 'i', 'j', 'k', 'l', 'm', 'n', 'o', 'p', 'q', 'r', 's', 't', 'u', 'v', 'w', 'x', 'y', 'z']\n",
        "def encoder():\n",
        "  shift = int(input(\"Enter the shift value: \"))\n",
        "  original_text = input(\"Enter the text: \")\n",
        "  encoded_text = \"\"\n",
        "  for letter in original_text:\n",
        "    if letter in alphabets:\n",
        "      index = alphabets.index(letter)\n",
        "      new_index = index + shift\n",
        "      if new_index >= len(alphabets):\n",
        "        new_index -= len(alphabets)\n",
        "      encoded_text += alphabets[new_index]\n",
        "    else:\n",
        "      encoded_text += letter\n",
        "  print(f\"The encoded text is: {encoded_text}\")\n",
        "\n",
        "\n",
        "encoder()\n",
        "\n",
        "print(\"DECODER\")\n",
        "\n",
        "def decoder():\n",
        "  shift = int(input(\"Enter the shift value: \"))\n",
        "  original_text = input(\"Enter the encoded text: \")\n",
        "  decoded_text = \"\"\n",
        "  for letter in original_text:\n",
        "    if letter in alphabets:\n",
        "      index = alphabets.index(letter)\n",
        "      index = index - shift\n",
        "      if index < 0:\n",
        "        index += len(alphabets)\n",
        "      decoded_text += alphabets[index]\n",
        "    else:\n",
        "      decoded_text += letter\n",
        "  print(f\"The decoded text is: {decoded_text}\")\n",
        "\n",
        "decoder()"
      ]
    },
    {
      "cell_type": "code",
      "source": [
        "#Using Function Input Technique\n",
        "print(\"ENCODER\")\n",
        "alphabets = ['a', 'b', 'c', 'd', 'e', 'f', 'g', 'h', 'i', 'j', 'k', 'l', 'm', 'n', 'o', 'p', 'q', 'r', 's', 't', 'u', 'v', 'w', 'x', 'y', 'z']\n",
        "original_text = input(\"Enter the text: \").lower()\n",
        "shift_value = int(input(\"Enter the shift value: \"))\n",
        "def encoder(original_text=\"Text\",shift_value=0):\n",
        "  encrypted_text = \"\"\n",
        "  for letter in original_text:\n",
        "    if letter in alphabets:\n",
        "      shifted_position = alphabets.index(letter) + shift_value\n",
        "      if shifted_position >= len(alphabets):\n",
        "        shifted_position -= len(alphabets)\n",
        "      encrypted_text += alphabets[shifted_position]\n",
        "    else:\n",
        "      encrypted_text += letter\n",
        "  print(f\"The encrypted text is: {encrypted_text}\")\n",
        "\n",
        "encoder(original_text, shift_value)\n",
        "\n",
        "print(\"DECODER\")\n",
        "original_text = input(\"Enter the text: \").lower()\n",
        "shift_value = int(input(\"Enter the shift value: \"))\n",
        "\n",
        "def decoder(original_text=\"Text\",shift_value=0):\n",
        "  decrypted_text = \"\"\n",
        "  for letter in original_text:\n",
        "    if letter in alphabets:\n",
        "      shifted_position = alphabets.index(letter) - shift_value\n",
        "      if shifted_position < 0:\n",
        "        shifted_position += len(alphabets)\n",
        "      decrypted_text += alphabets[shifted_position]\n",
        "    else:\n",
        "      decrypted_text += letter\n",
        "  print(f\"The decrypted text is: {decrypted_text}\")\n",
        "\n",
        "decoder(original_text, shift_value)\n"
      ],
      "metadata": {
        "colab": {
          "base_uri": "https://localhost:8080/"
        },
        "id": "1jYOBexSVvu2",
        "outputId": "805f1ab0-05ae-4e07-c34d-d1924880f997"
      },
      "execution_count": 6,
      "outputs": [
        {
          "output_type": "stream",
          "name": "stdout",
          "text": [
            "ENCODER\n",
            "Enter the text: Hello\n",
            "Enter the shift value: 4\n",
            "The encrypted text is: lipps\n",
            "DECODER\n",
            "Enter the text: lipps\n",
            "Enter the shift value: 4\n",
            "The decrypted text is: hello\n"
          ]
        }
      ]
    }
  ]
}