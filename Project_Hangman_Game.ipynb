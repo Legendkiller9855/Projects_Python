{
  "nbformat": 4,
  "nbformat_minor": 0,
  "metadata": {
    "colab": {
      "provenance": [],
      "authorship_tag": "ABX9TyMNjVsvzP127rUkcwum2do1",
      "include_colab_link": true
    },
    "kernelspec": {
      "name": "python3",
      "display_name": "Python 3"
    },
    "language_info": {
      "name": "python"
    }
  },
  "cells": [
    {
      "cell_type": "markdown",
      "metadata": {
        "id": "view-in-github",
        "colab_type": "text"
      },
      "source": [
        "<a href=\"https://colab.research.google.com/github/Legendkiller9855/Projects_Python/blob/beginner-level-projects/Project_Hangman_Game.ipynb\" target=\"_parent\"><img src=\"https://colab.research.google.com/assets/colab-badge.svg\" alt=\"Open In Colab\"/></a>"
      ]
    },
    {
      "cell_type": "code",
      "execution_count": null,
      "metadata": {
        "colab": {
          "base_uri": "https://localhost:8080/"
        },
        "id": "fEp9W7KHXres",
        "outputId": "243a50ca-a218-4150-f26f-ec37151ef5c7"
      },
      "outputs": [
        {
          "output_type": "stream",
          "name": "stdout",
          "text": [
            "HANGMAN\n",
            "_ _ _ _ _ _ _ _ _ \n",
            "The word has 9 letters\n",
            "Guess a letter: h\n",
            "Wrong guess! Lives left: 5\n",
            "_ _ _ _ _ _ _ _ _\n",
            "Guess a letter: j\n",
            "Wrong guess! Lives left: 4\n",
            "_ _ _ _ _ _ _ _ _\n"
          ]
        }
      ],
      "source": [
        "print(\"HANGMAN\")\n",
        "\n",
        "word_list = [\"python\", \"hangman\", \"challenge\", \"developer\", \"function\", \"variable\",\n",
        "             \"keyboard\", \"condition\", \"iteration\", \"syntax\", \"string\", \"integer\",\n",
        "             \"loop\", \"boolean\", \"exception\", \"dictionary\", \"module\", \"parameter\",\n",
        "             \"argument\", \"recursion\"]\n",
        "\n",
        "import random\n",
        "chosen_word = random.choice(word_list).lower()\n",
        "\n",
        "\n",
        "placeholder = \"\"\n",
        "length_of_word = len(chosen_word)\n",
        "for letter in range(length_of_word):\n",
        "    placeholder += \"_ \"\n",
        "print(placeholder)\n",
        "print(f\"The word has {length_of_word} letters\")\n",
        "\n",
        "\n",
        "display = [\"_\"] * length_of_word\n",
        "\n",
        "lives = 6\n",
        "guessed_letters = []\n",
        "\n",
        "game_over = False\n",
        "\n",
        "\n",
        "while not game_over:\n",
        "    guess = input(\"Guess a letter: \").lower()\n",
        "\n",
        "    if guess in guessed_letters:\n",
        "        print(f\"You've already guessed '{guess}'. Try again.\")\n",
        "        continue\n",
        "    guessed_letters.append(guess)\n",
        "\n",
        "    correct_guess = False\n",
        "    for index in range(length_of_word):\n",
        "        if chosen_word[index] == guess:\n",
        "            display[index] = guess\n",
        "            correct_guess = True\n",
        "\n",
        "    if not correct_guess:\n",
        "        lives -= 1\n",
        "        print(f\"Wrong guess! Lives left: {lives}\")\n",
        "        if lives == 0:\n",
        "            print(\"You lost! The word was:\", chosen_word)\n",
        "            game_over = True\n",
        "\n",
        "    print(\" \".join(display))\n",
        "\n",
        "    if \"_\" not in display:\n",
        "        print(\"Congratulations! You guessed the word!\")\n",
        "        game_over = True\n"
      ]
    }
  ]
}