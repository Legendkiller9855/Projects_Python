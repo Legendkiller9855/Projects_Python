{
  "nbformat": 4,
  "nbformat_minor": 0,
  "metadata": {
    "colab": {
      "provenance": [],
      "authorship_tag": "ABX9TyPkiibQFb10MnqQTgHc+E5/",
      "include_colab_link": true
    },
    "kernelspec": {
      "name": "python3",
      "display_name": "Python 3"
    },
    "language_info": {
      "name": "python"
    }
  },
  "cells": [
    {
      "cell_type": "markdown",
      "metadata": {
        "id": "view-in-github",
        "colab_type": "text"
      },
      "source": [
        "<a href=\"https://colab.research.google.com/github/Legendkiller9855/Projects_Python/blob/beginner-level-projects/Project_2_Tip_Calculator_pynb.ipynb\" target=\"_parent\"><img src=\"https://colab.research.google.com/assets/colab-badge.svg\" alt=\"Open In Colab\"/></a>"
      ]
    },
    {
      "cell_type": "code",
      "execution_count": null,
      "metadata": {
        "id": "veJ8GujRh8Z7"
      },
      "outputs": [],
      "source": [
        "print(\"Welcome to the tip calculator!\")\n",
        "bill_amount = float(input(\"What was the total bill?\"))\n",
        "tip_percentage = int(input(\"How much tip would yu like to give?10 ,12, or 15?\"))\n",
        "people_count = int(input(\"How may people to split the bill?\"))\n",
        "tip_amount=((bill_amount+(tip_percentage*bill_amount/100))/people_count)\n",
        "rounded_tip_amount = round(tip_amount, 2)\n",
        "print(f\"Each person should pay: {rounded_tip_amount}\")"
      ]
    }
  ]
}