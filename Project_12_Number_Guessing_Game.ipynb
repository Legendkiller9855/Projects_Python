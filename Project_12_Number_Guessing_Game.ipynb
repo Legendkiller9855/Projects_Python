{
  "nbformat": 4,
  "nbformat_minor": 0,
  "metadata": {
    "colab": {
      "provenance": [],
      "authorship_tag": "ABX9TyPJvFGTmF6I+DNH+RnXXHUt",
      "include_colab_link": true
    },
    "kernelspec": {
      "name": "python3",
      "display_name": "Python 3"
    },
    "language_info": {
      "name": "python"
    }
  },
  "cells": [
    {
      "cell_type": "markdown",
      "metadata": {
        "id": "view-in-github",
        "colab_type": "text"
      },
      "source": [
        "<a href=\"https://colab.research.google.com/github/Legendkiller9855/Projects_Python/blob/intermediate-level-projects/Project_12_Number_Guessing_Game.ipynb\" target=\"_parent\"><img src=\"https://colab.research.google.com/assets/colab-badge.svg\" alt=\"Open In Colab\"/></a>"
      ]
    },
    {
      "cell_type": "code",
      "execution_count": 19,
      "metadata": {
        "colab": {
          "base_uri": "https://localhost:8080/"
        },
        "id": "6A90RpES3xxA",
        "outputId": "db95277e-0a00-4119-a902-9964654a26d1"
      },
      "outputs": [
        {
          "output_type": "stream",
          "name": "stdout",
          "text": [
            "Welcome to the Number Guessing Game\n",
            "I'm thinking of a number between 1 and 100\n",
            "Choose a difficulty. Type 'easy' or 'hard' : hard\n",
            "You have 5 chance\n",
            "Guess a number between 1 and 100\n",
            "Make a Guess:4\n",
            "Number of lives left :4\n",
            "Too Low\n",
            "Make a Guess:56\n",
            "Number of lives left :3\n",
            "Too Low\n",
            "Make a Guess:79\n",
            "Number of lives left :2\n",
            "Too High\n",
            "Make a Guess:67\n",
            "Number of lives left :1\n",
            "Too High\n",
            "Make a Guess:61\n",
            "Number of lives left :0\n",
            "Too High\n",
            "You lost the game.Number to be guessed was 57\n"
          ]
        }
      ],
      "source": [
        "print(\"Welcome to the Number Guessing Game\")\n",
        "print(\"I'm thinking of a number between 1 and 100\")\n",
        "import random\n",
        "number_to_be_guessed = random.randint(1,100)\n",
        "difficulty_level = input(\"Choose a difficulty. Type 'easy' or 'hard' : \")\n",
        "if difficulty_level == \"easy\":\n",
        "  number_of_lives = 10\n",
        "  print(f\"You have {number_of_lives} chance\")\n",
        "elif difficulty_level == \"hard\":\n",
        "  number_of_lives = 5\n",
        "  print(f\"You have {number_of_lives} chance\")\n",
        "print(\"Guess a number between 1 and 100\")\n",
        "def function():\n",
        "    guess = int(input(\"Make a Guess:\"))\n",
        "    global number_of_lives\n",
        "\n",
        "    if guess != number_to_be_guessed:\n",
        "      number_of_lives -= 1\n",
        "      print(f\"Number of lives left :{number_of_lives}\")\n",
        "    if guess > number_to_be_guessed:\n",
        "      print(\"Too High\")\n",
        "    if guess < number_to_be_guessed :\n",
        "      print(\"Too Low\")\n",
        "    if number_of_lives == 0:\n",
        "        print(f\"You lost the game.Number to be guessed was {number_to_be_guessed}\")\n",
        "    elif guess == number_to_be_guessed:\n",
        "      print(f\"You won the game.The number to be guessed was {number_to_be_guessed}\")\n",
        "    else:\n",
        "        function()\n",
        "function()\n",
        "\n"
      ]
    }
  ]
}