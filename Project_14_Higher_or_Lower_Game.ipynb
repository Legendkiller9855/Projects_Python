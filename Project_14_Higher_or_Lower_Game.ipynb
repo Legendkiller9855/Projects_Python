{
  "nbformat": 4,
  "nbformat_minor": 0,
  "metadata": {
    "colab": {
      "provenance": [],
      "authorship_tag": "ABX9TyMAuopGjfCtcTLIvYtYPy9c",
      "include_colab_link": true
    },
    "kernelspec": {
      "name": "python3",
      "display_name": "Python 3"
    },
    "language_info": {
      "name": "python"
    }
  },
  "cells": [
    {
      "cell_type": "markdown",
      "metadata": {
        "id": "view-in-github",
        "colab_type": "text"
      },
      "source": [
        "<a href=\"https://colab.research.google.com/github/Legendkiller9855/Projects_Python/blob/intermediate-level-projects/Project_14_Higher_or_Lower_Game.ipynb\" target=\"_parent\"><img src=\"https://colab.research.google.com/assets/colab-badge.svg\" alt=\"Open In Colab\"/></a>"
      ]
    },
    {
      "cell_type": "markdown",
      "source": [
        "*Simple higher or lower game for the Dice Rolling.*"
      ],
      "metadata": {
        "id": "ob0kfoU_sjPL"
      }
    },
    {
      "cell_type": "code",
      "execution_count": 7,
      "metadata": {
        "colab": {
          "base_uri": "https://localhost:8080/"
        },
        "id": "aWrKQDNamUGv",
        "outputId": "b64f34c7-efda-461b-a6b7-532d1e6996e4"
      },
      "outputs": [
        {
          "output_type": "stream",
          "name": "stdout",
          "text": [
            "Welcome to the Higher or Lower Game\n",
            "You have to guess whether the number shown on dice after being rolled is higher or lower than you expectation.\n",
            "Number on dice:4\n",
            "Make a Guess:2\n",
            "You guessed the number wrong.\n",
            "Your final score was : 0\n"
          ]
        }
      ],
      "source": [
        "print(\"Welcome to the Higher or Lower Game\")\n",
        "print(\"You have to guess whether the number shown on dice after being rolled is higher or lower than you expectation.\")\n",
        "import random\n",
        "score = 0\n",
        "def function():\n",
        "  dice=[1,2,3,4,5,6]\n",
        "  dice_num = random.randint(0,5)\n",
        "  number_on_dice = dice[dice_num]\n",
        "  print(f\"Number on dice:{number_on_dice}\")  #Remove for the actual Game.Only for checking the functaniolality of the code.\n",
        "  global score\n",
        "  guess = int(input(\"Make a Guess:\"))\n",
        "  if guess == number_on_dice:\n",
        "    print(\"You guessed the number right!\")\n",
        "    score += 1\n",
        "    print(f\"Your current score is : {score}\")\n",
        "    function()\n",
        "  else:\n",
        "    print(\"You guessed the number wrong.\")\n",
        "    print(f\"Your final score was : {score}\")\n",
        "\n",
        "function()"
      ]
    },
    {
      "cell_type": "markdown",
      "source": [
        "*Game for comparing followers of famous celebrities.*"
      ],
      "metadata": {
        "id": "PVnM3Accs0t1"
      }
    },
    {
      "cell_type": "code",
      "source": [
        "import random\n",
        "\n",
        "print(\"Welcome to the Higher or Lower Game.\")\n",
        "print(\"You have to guess whether celebrity A has more followers or celebrity B has.\")\n",
        "score = 0\n",
        "\n",
        "def function():\n",
        "  celebrities = [\n",
        "      {\n",
        "          \"name\": \"Cristiano Ronaldo\",\n",
        "          \"instagram_followers\": 635,\n",
        "          \"country\": \"Portugal\",\n",
        "          \"profession\": \"Footballer\"\n",
        "      },\n",
        "      {\n",
        "          \"name\": \"Lionel Messi\",\n",
        "          \"instagram_followers\": 505,\n",
        "          \"country\": \"Argentina\",\n",
        "          \"profession\": \"Footballer\"\n",
        "      },\n",
        "      {\n",
        "          \"name\": \"Selena Gomez\",\n",
        "          \"instagram_followers\": 430,\n",
        "          \"country\": \"USA\",\n",
        "          \"profession\": \"Singer/Actress\"\n",
        "      },\n",
        "      {\n",
        "          \"name\": \"Kylie Jenner\",\n",
        "          \"instagram_followers\": 400,\n",
        "          \"country\": \"USA\",\n",
        "          \"profession\": \"Model/Entrepreneur\"\n",
        "      },\n",
        "      {\n",
        "          \"name\": \"Dwayne Johnson\",\n",
        "          \"instagram_followers\": 395,\n",
        "          \"country\": \"USA\",\n",
        "          \"profession\": \"Actor/Wrestler\"\n",
        "      },\n",
        "      {\n",
        "          \"name\": \"Ariana Grande\",\n",
        "          \"instagram_followers\": 380,\n",
        "          \"country\": \"USA\",\n",
        "          \"profession\": \"Singer/Actress\"\n",
        "      },\n",
        "      {\n",
        "          \"name\": \"Kim Kardashian\",\n",
        "          \"instagram_followers\": 360,\n",
        "          \"country\": \"USA\",\n",
        "          \"profession\": \"Entrepreneur/TV Personality\"\n",
        "      },\n",
        "      {\n",
        "          \"name\": \"Virat Kohli\",\n",
        "          \"instagram_followers\": 275,\n",
        "          \"country\": \"India\",\n",
        "          \"profession\": \"Cricketer\"\n",
        "      },\n",
        "      {\n",
        "          \"name\": \"Beyoncé\",\n",
        "          \"instagram_followers\": 320,\n",
        "          \"country\": \"USA\",\n",
        "          \"profession\": \"Singer\"\n",
        "      },\n",
        "      {\n",
        "          \"name\": \"Taylor Swift\",\n",
        "          \"instagram_followers\": 290,\n",
        "          \"country\": \"USA\",\n",
        "          \"profession\": \"Singer\"\n",
        "      },\n",
        "      {\n",
        "          \"name\": \"Justin Bieber\",\n",
        "          \"instagram_followers\": 290,\n",
        "          \"country\": \"Canada\",\n",
        "          \"profession\": \"Singer\"\n",
        "      },\n",
        "      {\n",
        "          \"name\": \"Neymar Jr.\",\n",
        "          \"instagram_followers\": 285,\n",
        "          \"country\": \"Brazil\",\n",
        "          \"profession\": \"Footballer\"\n",
        "      }\n",
        "  ]\n",
        "  global score\n",
        "  game_should_continue = True\n",
        "  while game_should_continue:\n",
        "    a = random.choice(celebrities)\n",
        "    b = random.choice(celebrities)\n",
        "    while a == b:\n",
        "      b = random.choice(celebrities)\n",
        "\n",
        "    print(f\"Compare A: {a['name']}, a {a['profession']} from {a['country']}.\")\n",
        "    print(f\"Against B: {b['name']}, a {b['profession']} from {b['country']}.\")\n",
        "\n",
        "    guess = input(\"Who has more followers? Type 'A' or 'B': \").upper()\n",
        "\n",
        "    if (a['instagram_followers'] > b['instagram_followers'] and guess == 'A') or \\\n",
        "       (b['instagram_followers'] > a['instagram_followers'] and guess == 'B'):\n",
        "      score += 1\n",
        "      print(f\"You're right! Current score: {score}.\")\n",
        "      function()\n",
        "    else:\n",
        "      game_should_continue = False\n",
        "      print(f\"Sorry, that's wrong. Final score: {score}\")\n",
        "\n",
        "function()"
      ],
      "metadata": {
        "colab": {
          "base_uri": "https://localhost:8080/"
        },
        "id": "sqQW2bSxs-Nc",
        "outputId": "b1f13957-b5e7-4f4e-9bb4-dd39eb37134c"
      },
      "execution_count": 26,
      "outputs": [
        {
          "output_type": "stream",
          "name": "stdout",
          "text": [
            "Welcome to the Higher or Lower Game.\n",
            "You have to guess whether celebrity A has more followers or celebrity B has.\n",
            "Compare A: Beyoncé, a Singer from USA.\n",
            "Against B: Kylie Jenner, a Model/Entrepreneur from USA.\n",
            "Who has more followers? Type 'A' or 'B': a\n",
            "Sorry, that's wrong. Final score: 0\n"
          ]
        }
      ]
    }
  ]
}