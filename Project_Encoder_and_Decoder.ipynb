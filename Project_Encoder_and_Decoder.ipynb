{
  "nbformat": 4,
  "nbformat_minor": 0,
  "metadata": {
    "colab": {
      "provenance": [],
      "authorship_tag": "ABX9TyNilxhzbE7FllBG+F9Bn5H9",
      "include_colab_link": true
    },
    "kernelspec": {
      "name": "python3",
      "display_name": "Python 3"
    },
    "language_info": {
      "name": "python"
    }
  },
  "cells": [
    {
      "cell_type": "markdown",
      "metadata": {
        "id": "view-in-github",
        "colab_type": "text"
      },
      "source": [
        "<a href=\"https://colab.research.google.com/github/Legendkiller9855/Projects_Python/blob/intermediate-level-projects/Project_Encoder_and_Decoder.ipynb\" target=\"_parent\"><img src=\"https://colab.research.google.com/assets/colab-badge.svg\" alt=\"Open In Colab\"/></a>"
      ]
    },
    {
      "cell_type": "code",
      "execution_count": 3,
      "metadata": {
        "colab": {
          "base_uri": "https://localhost:8080/"
        },
        "id": "mjvTCDp7RQtS",
        "outputId": "99ce0a92-b751-4ef4-df26-27753d16eac5"
      },
      "outputs": [
        {
          "output_type": "stream",
          "name": "stdout",
          "text": [
            "ENCODER AND DECODER\n",
            "Enter the shift value: 3\n",
            "Enter the text: Hello Krishan\n",
            "The encoded text is: Hhoor Kulvkdq\n",
            "Enter the shift value: 3\n",
            "Enter the encoded text: Hhoor Kulvkdq\n",
            "The decoded text is: Hello Krishan\n"
          ]
        }
      ],
      "source": [
        "print(\"ENCODER\")\n",
        "alphabets = ['a', 'b', 'c', 'd', 'e', 'f', 'g', 'h', 'i', 'j', 'k', 'l', 'm', 'n', 'o', 'p', 'q', 'r', 's', 't', 'u', 'v', 'w', 'x', 'y', 'z']\n",
        "def encoder():\n",
        "  shift = int(input(\"Enter the shift value: \"))\n",
        "  original_text = input(\"Enter the text: \")\n",
        "  encoded_text = \"\"\n",
        "  for letter in original_text:\n",
        "    if letter in alphabets:\n",
        "      index = alphabets.index(letter)\n",
        "      new_index = index + shift\n",
        "      if new_index >= len(alphabets):\n",
        "        new_index -= len(alphabets)\n",
        "      encoded_text += alphabets[new_index]\n",
        "    else:\n",
        "      encoded_text += letter\n",
        "  print(f\"The encoded text is: {encoded_text}\")\n",
        "\n",
        "\n",
        "encoder()\n",
        "\n",
        "print(\"DECODER\")\n",
        "\n",
        "def decoder():\n",
        "  shift = int(input(\"Enter the shift value: \"))\n",
        "  original_text = input(\"Enter the encoded text: \")\n",
        "  decoded_text = \"\"\n",
        "  for letter in original_text:\n",
        "    if letter in alphabets:\n",
        "      index = alphabets.index(letter)\n",
        "      index = index - shift\n",
        "      if index < 0:\n",
        "        index += len(alphabets)\n",
        "      decoded_text += alphabets[index]\n",
        "    else:\n",
        "      decoded_text += letter\n",
        "  print(f\"The decoded text is: {decoded_text}\")\n",
        "\n",
        "decoder()"
      ]
    }
  ]
}